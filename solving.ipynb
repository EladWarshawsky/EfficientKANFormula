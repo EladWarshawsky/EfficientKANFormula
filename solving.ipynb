{
 "cells": [
  {
   "cell_type": "code",
   "execution_count": null,
   "metadata": {},
   "outputs": [],
   "source": [
    "from kan import *\n",
    "from formula_solving import *\n",
    "model = KAN([2,5,3])"
   ]
  },
  {
   "cell_type": "code",
   "execution_count": null,
   "metadata": {},
   "outputs": [],
   "source": [
    "splines = [x[1].data for x in [*model.named_parameters()] if \"spline_weight\"in x[0]]\n",
    "grids = [x.grid.data for x in [*model.modules()] if isinstance(x,KANLinear)]\n",
    "all_formulas = [solve_layer_formulas(spline,grid) for spline,grid in zip(splines,grids)]\n",
    "all_formulas = [list(x) for x in all_formulas]\n",
    "final_formula,s = derive_final_formulas(all_formulas)"
   ]
  }
 ],
 "metadata": {
  "language_info": {
   "name": "python"
  }
 },
 "nbformat": 4,
 "nbformat_minor": 2
}
